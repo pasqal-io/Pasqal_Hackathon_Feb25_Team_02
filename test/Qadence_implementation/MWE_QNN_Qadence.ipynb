{
 "cells": [
  {
   "cell_type": "markdown",
   "id": "57e894c3",
   "metadata": {},
   "source": [
    "# Quantum Neural Network for Ellipse Detection\n",
    "\n",
    "## Introduction\n",
    "This notebook demonstrates the implementation of a Quantum Neural Network (QNN) for binary image classification using Qadence, a quantum machine learning framework. The task involves distinguishing images containing ellipses from those without ellipses. This serves as a simplified example of how quantum computing can be applied to image recognition tasks.\n",
    "\n",
    "The approach uses a hybrid quantum-classical model where:\n",
    "1. Classical images are encoded into quantum states\n",
    "2. Quantum circuit operations process this information\n",
    "3. Measurement results are interpreted as classifications"
   ]
  },
  {
   "cell_type": "code",
   "execution_count": 3,
   "id": "922988ae-c2e1-483c-8bb2-76369485cd55",
   "metadata": {},
   "outputs": [],
   "source": [
    "import os\n",
    "import itertools as it\n",
    "import csv\n",
    "import random\n",
    "import math\n",
    "\n",
    "import numpy as np\n",
    "import pandas as pd\n",
    "import matplotlib.pyplot as plt\n",
    "\n",
    "from PIL import Image, ImageDraw\n",
    "from tqdm import tqdm\n",
    "\n",
    "from qadence import (\n",
    "    chain, kron, QuantumCircuit, run,\n",
    "    H, X, MCRY, Z, RY, RX, CNOT,\n",
    "    QNN, VariationalParameter, FeatureParameter, hea\n",
    ")\n",
    "\n",
    "from qadence.draw import display\n",
    "\n",
    "import torch\n",
    "from torch import tensor\n",
    "from torch.optim import Adam\n",
    "\n",
    "from sklearn.metrics import confusion_matrix\n",
    "import seaborn as sns\n",
    "from sklearn.model_selection import train_test_split"
   ]
  },
  {
   "cell_type": "markdown",
   "id": "1f4b5dea-112b-4df4-b520-ae480adf26eb",
   "metadata": {},
   "source": [
    "## Generate training images\n",
    "This code does all the following things:\n",
    "- Creates images with and without ellipses. \n",
    "- Saves the images arrays (.npy files).\n",
    "- Saves the images (.jpg files).\n",
    "- Saves a label files (labels.csv) indicating whether an image contains an ellipse (1) or not (0)."
   ]
  },
  {
   "cell_type": "code",
   "execution_count": 4,
   "id": "8d6e20ec-2e4c-4a56-a2c4-a615a753c5ca",
   "metadata": {},
   "outputs": [
    {
     "name": "stderr",
     "output_type": "stream",
     "text": [
      "  0%|          | 0/512 [00:00<?, ?it/s]"
     ]
    },
    {
     "name": "stderr",
     "output_type": "stream",
     "text": [
      "100%|██████████| 512/512 [00:00<00:00, 3059.38it/s]\n"
     ]
    },
    {
     "data": {
      "image/png": "[encoded data removed]",
      "text/plain": [
       "<Figure size 640x480 with 1 Axes>"
      ]
     },
     "metadata": {},
     "output_type": "display_data"
    }
   ],
   "source": [
    "# Constants\n",
    "IMAGE_SIZE = 4  # 4x4 pixels\n",
    "NUM_IMAGES = 512  # Number of images to generate\n",
    "OUTPUT_DIR = \"pixel_art_dataset_2\"  # Output directory\n",
    "LABELS_FILE = os.path.join(OUTPUT_DIR, \"labels.csv\")  # Labels file path\n",
    "GRAYSCALE_LEVELS = 8  # Number of grayscale levels\n",
    "\n",
    "# Create output directory if it doesn't exist\n",
    "os.makedirs(OUTPUT_DIR, exist_ok=True)\n",
    "\n",
    "def create_smooth_gradient_background(size):\n",
    "    \"\"\"Create a smooth random gradient background.\"\"\"\n",
    "    corners = np.random.randint(0, GRAYSCALE_LEVELS, size=4) * (255 // (GRAYSCALE_LEVELS - 1))\n",
    "    y, x = np.mgrid[0:size, 0:size] / (size - 1)\n",
    "    top = corners[0] * (1 - x) + corners[1] * x\n",
    "    bottom = corners[2] * (1 - x) + corners[3] * x\n",
    "    gradient = top * (1 - y) + bottom * y\n",
    "    return np.round(gradient).astype(np.uint8)\n",
    "\n",
    "def add_ellipse(img_array, size):\n",
    "    \"\"\"Add an ellipse to the image.\"\"\"\n",
    "    temp_img = Image.fromarray(img_array, 'L')\n",
    "    draw = ImageDraw.Draw(temp_img)\n",
    "    x0, y0 = random.randint(0, size-3), random.randint(0, size-3)\n",
    "    x1, y1 = x0 + random.randint(2, size//2), y0 + random.randint(2, size//2)\n",
    "    fill_value = random.randint(0, GRAYSCALE_LEVELS-1) * (255 // (GRAYSCALE_LEVELS - 1))\n",
    "    draw.ellipse([x0, y0, x1, y1], fill=fill_value)\n",
    "    return np.array(temp_img)\n",
    "\n",
    "def create_image(has_ellipse):\n",
    "    img_array = create_smooth_gradient_background(IMAGE_SIZE)\n",
    "    if has_ellipse:\n",
    "        img_array = add_ellipse(img_array, IMAGE_SIZE)\n",
    "    return img_array\n",
    "\n",
    "dataset = []\n",
    "\n",
    "for i in tqdm(range(NUM_IMAGES)):\n",
    "    has_ellipse = random.random() < 0.5  # 50% chance\n",
    "    img_array = create_image(has_ellipse)\n",
    "\n",
    "    dataset.append({\n",
    "        'image': img_array,\n",
    "        'label': has_ellipse,\n",
    "    })\n",
    "\n",
    "df_train = pd.DataFrame(dataset)\n",
    "\n",
    "# Show an image\n",
    "img_index = 6\n",
    "\n",
    "fig, ax = plt.subplots()\n",
    "ax.imshow(df_train.image[img_index], cmap='gray')\n",
    "ax.set_title(f\"Has polyp: {df_train.label[img_index]}\")\n",
    "del fig, ax"
   ]
  },
  {
   "cell_type": "markdown",
   "id": "26e061c2",
   "metadata": {},
   "source": [
    "## Create QNN Circuit\n",
    " The Quantum Neural Network consists of three main parts:\n",
    " 1. A feature circuit that encodes the image data into quantum states\n",
    " 2. A variational (trainable) circuit that processes these states\n",
    " 3. An observable that measures the output and converts it to a classification result\n",
    "\n",
    "### Feature circuit (image input)\n",
    " First, we define feature parameters to encode each pixel of the image into quantum states.\n",
    " Each pixel value will control a rotation in the quantum circuit.\n",
    "\n",
    " Parameters to input the image into the circuit\n",
    " One variable per pixel, indexed by (row, col)"
   ]
  },
  {
   "cell_type": "code",
   "execution_count": 5,
   "id": "88b6c59a-fbdd-4c0e-b791-2804af10159b",
   "metadata": {},
   "outputs": [],
   "source": [
    "# Parameters to input the image into the circuit\n",
    "# One variable per pixel, indexed by (row, col)\n",
    "feature_params = {\n",
    "    (row, col): FeatureParameter(f'x{row}{col}')\n",
    "    for row in range(IMAGE_SIZE)\n",
    "    for col in range(IMAGE_SIZE)\n",
    "}\n",
    "\n",
    "feature_params_list = list(feature_params.values())"
   ]
  },
  {
   "cell_type": "markdown",
   "id": "ef56c67f",
   "metadata": {},
   "source": [
    "## Quantum dimension parameters\n",
    " We determine how many qubits are needed to represent row/column positions\n",
    " and create a circuit to encode pixel positions and values"
   ]
  },
  {
   "cell_type": "code",
   "execution_count": 6,
   "id": "557f83f1-d153-43eb-abdc-1b1724cb790e",
   "metadata": {},
   "outputs": [],
   "source": [
    "# Quantum parameters\n",
    "qdim = math.floor(math.log2(IMAGE_SIZE))  # number of qubits to encode a row or a column\n",
    "n_qubits = 2*qdim + 1  # 6 para posição (3 linha + 3 coluna) + 1 para intensidade\n",
    "control_qubits = list(range(n_qubits-1))\n",
    "\n",
    "def control_state(row: int, col: int):\n",
    "    row_binary = f\"{row:b}\".rjust(qdim, '0')\n",
    "    col_binary = f\"{col:b}\".rjust(qdim, '0')\n",
    "    state = row_binary + col_binary\n",
    "    return state\n",
    "\n",
    "ops_feature = [kron(H(i) for i in range(n_qubits - 1))]  # Hadamard para posição\n",
    "\n",
    "for (row, col), parameter in feature_params.items():\n",
    "    rotation_gate = kron(MCRY(control_qubits, n_qubits - 1, parameter * np.pi))\n",
    "    \n",
    "    cstate = control_state(row, col)\n",
    "    qubits_to_flip = [i for i, x in enumerate(cstate) if x == '1']\n",
    "\n",
    "    if qubits_to_flip:\n",
    "        ops_feature.append(kron(X(i) for i in qubits_to_flip))\n",
    "        \n",
    "    ops_feature.append(rotation_gate)\n",
    "\n",
    "    if qubits_to_flip:\n",
    "        ops_feature.append(kron(X(i) for i in qubits_to_flip))\n",
    "\n",
    "chain_feature = chain(*ops_feature)\n",
    "qc_feature = QuantumCircuit(n_qubits, chain_feature)\n",
    "# display(qc_feature)"
   ]
  },
  {
   "cell_type": "markdown",
   "id": "b80bfeac-1e0b-47c5-a668-2ba4bac6cb63",
   "metadata": {},
   "source": [
    "### Variational circuit (trainable layers)\n",
    " Next, we define the trainable part of our quantum circuit using the hardware-efficient ansatz (HEA).\n",
    " This consists of alternating layers of rotations and entanglement, with parameters that will be \n",
    " optimized during training."
   ]
  },
  {
   "cell_type": "code",
   "execution_count": 7,
   "id": "9f6bca56-0d84-433e-8209-095f6488639c",
   "metadata": {},
   "outputs": [],
   "source": [
    "depth = 5\n",
    "qc_ansatz = hea(n_qubits, depth)\n",
    "# display(qc_ansatz)"
   ]
  },
  {
   "cell_type": "markdown",
   "id": "0ce7d215-5939-4469-b0b9-cc92375c6aef",
   "metadata": {},
   "source": [
    "### Observable (circuit output)\n",
    " Finally, we define how to measure the output of our quantum circuit.\n",
    " We use a weighted sum of Z-measurements on each qubit as our observable."
   ]
  },
  {
   "cell_type": "code",
   "execution_count": 8,
   "id": "6e274967-c0ab-4364-be38-2a01069a43e4",
   "metadata": {},
   "outputs": [],
   "source": [
    "obs_parameters = [VariationalParameter(f'z{i}') for i in range(n_qubits)]\n",
    "observable = sum(obs_parameters[i] * Z(i) for i in range(n_qubits)) / n_qubits"
   ]
  },
  {
   "cell_type": "code",
   "execution_count": 9,
   "id": "a83bb800-688c-4098-be8e-d7df35c754e1",
   "metadata": {},
   "outputs": [],
   "source": [
    "ops_all = chain(*qc_feature, qc_ansatz)\n",
    "qc = QuantumCircuit(n_qubits, ops_all)\n",
    "model = QNN(qc, observable, inputs=feature_params_list)"
   ]
  },
  {
   "cell_type": "markdown",
   "id": "851bf053-8573-4ea6-905f-4ad5c4b627dc",
   "metadata": {},
   "source": [
    "## Training the circuit\n",
    " Now we train our quantum model to classify images as containing an ellipse or not.\n",
    " We'll use a classical optimizer (Adam) and a binary classification loss function.\n",
    "\n",
    "### Prepare input data\n",
    " We normalize the pixel values to be between 0 and π, suitable for rotation angles in our quantum circuit."
   ]
  },
  {
   "cell_type": "code",
   "execution_count": 10,
   "id": "effc63ef-1f64-499b-9846-02f510e19c82",
   "metadata": {},
   "outputs": [],
   "source": [
    "img_train = df_train.image / 255*np.pi\n",
    "y_train = torch.tensor(np.array(df_train.label), dtype=torch.float64) * 2 - 1\n",
    "\n",
    "input_dict_train = {\n",
    "    feature.name: torch.tensor([img[i, j] for img in img_train], dtype=torch.float64)\n",
    "    for (i, j), feature in feature_params.items()\n",
    "}"
   ]
  },
  {
   "cell_type": "markdown",
   "id": "b9648116-671a-4155-b787-08cf5b2bff68",
   "metadata": {},
   "source": [
    "### Define loss function\n",
    " We use SoftMarginLoss which is suitable for binary classification tasks.\n",
    " The loss function encodes how well our model is performing on the training data."
   ]
  },
  {
   "cell_type": "code",
   "execution_count": 11,
   "id": "4975cc88-72a8-4b1c-ab3d-19634b5a13b0",
   "metadata": {},
   "outputs": [],
   "source": [
    "criterion = torch.nn.SoftMarginLoss()  # SoftMarginLoss is advised for data classification\n",
    "\n",
    "def loss_fn(model: torch.nn.Module, inputs: torch.Tensor) -> torch.Tensor:\n",
    "    \"\"\"Loss function encoding the problem to solve.\"\"\"\n",
    "    # Equation loss\n",
    "    model_output = model.expectation(values=input_dict_train)\n",
    "    \n",
    "    loss = criterion(model_output.squeeze(), y_train)\n",
    "\n",
    "    return loss"
   ]
  },
  {
   "cell_type": "markdown",
   "id": "8ea9ae19-f5ee-486b-96e2-1bffe26129a4",
   "metadata": {},
   "source": [
    "### Run optimization\n",
    " We train our model over multiple epochs, minimizing the loss function.\n",
    " As training progresses, we should see the loss decrease, indicating better classification performance."
   ]
  },
  {
   "cell_type": "code",
   "execution_count": null,
   "id": "988f2f15-41c4-4855-9203-3a89d9ee5df4",
   "metadata": {},
   "outputs": [],
   "source": [
    "optimizer = torch.optim.Adam(model.parameters(), lr=0.1)\n",
    "n_epochs = 3000\n",
    "\n",
    "for epoch in range(n_epochs):\n",
    "    optimizer.zero_grad()\n",
    "    loss = loss_fn(model, input_dict_train)\n",
    "    loss.backward()\n",
    "    optimizer.step()\n",
    "\n",
    "    if epoch % 25 == 0:\n",
    "        print(f\"{epoch=}, Loss: {loss.item():.4f}\")"
   ]
  },
  {
   "cell_type": "code",
   "execution_count": null,
   "id": "fa4a1b86-fd7a-45b4-be96-c46c716e3629",
   "metadata": {},
   "outputs": [
    {
     "data": {
      "text/plain": [
       "tensor(0.3815, grad_fn=<SoftMarginLossBackward0>)"
      ]
     },
     "execution_count": 13,
     "metadata": {},
     "output_type": "execute_result"
    }
   ],
   "source": [
    "loss"
   ]
  },
  {
   "cell_type": "markdown",
   "id": "7a151c18-4311-4f54-bdb4-52a5a08c3925",
   "metadata": {},
   "source": [
    "## Evaluation\n",
    " After training, we evaluate our model on a separate test set to assess its performance.\n",
    "\n",
    "### Generate test data\n",
    " We create a new set of images for testing, following the same process used for the training data.\n"
   ]
  },
  {
   "cell_type": "code",
   "execution_count": null,
   "id": "652ee5f5-bd6d-4412-aaf2-6259fef74835",
   "metadata": {},
   "outputs": [
    {
     "name": "stderr",
     "output_type": "stream",
     "text": [
      "100%|██████████| 512/512 [00:00<00:00, 12997.17it/s]\n"
     ]
    }
   ],
   "source": [
    "dataset_test = []\n",
    "\n",
    "for i in tqdm(range(NUM_IMAGES)):\n",
    "    has_ellipse = random.random() < 0.5  # 50% chance\n",
    "    img_array = create_image(has_ellipse)\n",
    "\n",
    "    dataset_test.append({\n",
    "        'image': img_array,\n",
    "        'label': has_ellipse,\n",
    "    })\n",
    "\n",
    "df_test = pd.DataFrame(dataset_test)"
   ]
  },
  {
   "cell_type": "markdown",
   "id": "c2bbef5e",
   "metadata": {},
   "source": [
    "\n",
    " Prepare the test data in the same format as our training data"
   ]
  },
  {
   "cell_type": "code",
   "execution_count": null,
   "id": "3c95b939-f1aa-4acc-91ae-3c779c44a66e",
   "metadata": {},
   "outputs": [],
   "source": [
    "img_test = df_test.image / 255*np.pi\n",
    "y_test = torch.tensor(np.array(df_test.label), dtype=torch.float64) * 2 - 1\n",
    "\n",
    "input_dict_test = {\n",
    "    feature.name: torch.tensor([img[i, j] for img in img_test], dtype=torch.float64)\n",
    "    for (i, j), feature in feature_params.items()\n",
    "}"
   ]
  },
  {
   "cell_type": "markdown",
   "id": "a4b67a5b",
   "metadata": {},
   "source": [
    "Make predictions with our trained model"
   ]
  },
  {
   "cell_type": "code",
   "execution_count": null,
   "id": "13a9ce72-ff0d-48c3-a9b6-37ea112c44f5",
   "metadata": {},
   "outputs": [],
   "source": [
    "y_pred = model.expectation(values=input_dict_test).squeeze()"
   ]
  },
  {
   "cell_type": "markdown",
   "id": "adc51856",
   "metadata": {},
   "source": [
    "\n",
    "Calculate and visualize the confusion matrix to evaluate our model's performance"
   ]
  },
  {
   "cell_type": "code",
   "execution_count": null,
   "id": "49de6d9e-b843-4a4e-85b4-fc79cbce70fc",
   "metadata": {},
   "outputs": [
    {
     "data": {
      "text/plain": [
       "array([[206, 122],\n",
       "       [ 36, 148]])"
      ]
     },
     "execution_count": 17,
     "metadata": {},
     "output_type": "execute_result"
    }
   ],
   "source": [
    "from collections import defaultdict\n",
    "\n",
    "@np.vectorize\n",
    "def classify(circuit_output):\n",
    "    return int(bool(circuit_output > 0))\n",
    "\n",
    "test_values = classify(y_test.detach().numpy())\n",
    "predicted_values = classify(y_pred.detach().numpy())\n",
    "\n",
    "confusion_matrix = np.zeros((2, 2), dtype=int)\n",
    "for predicted_value, test_value in zip(predicted_values, test_values):\n",
    "    confusion_matrix[predicted_value, test_value] += 1\n",
    "\n",
    "confusion_matrix"
   ]
  },
  {
   "cell_type": "markdown",
   "id": "1bb6c8c6",
   "metadata": {},
   "source": [
    "Visualize the confusion matrix as a heatmap"
   ]
  },
  {
   "cell_type": "code",
   "execution_count": null,
   "id": "3cf33b2e-e74e-4179-a9b6-84e4035b4aed",
   "metadata": {},
   "outputs": [
    {
     "data": {
      "image/png": "[encoded data removed]",
      "text/plain": [
       "<Figure size 640x480 with 2 Axes>"
      ]
     },
     "metadata": {},
     "output_type": "display_data"
    }
   ],
   "source": [
    "fig, ax = plt.subplots()\n",
    "\n",
    "sns.heatmap(\n",
    "    confusion_matrix / NUM_IMAGES,\n",
    "    annot=True,\n",
    "    fmt=\"%\",\n",
    "    cmap=\"Blues\",\n",
    "    ax=ax,\n",
    ")\n",
    "\n",
    "ax.set_xticklabels([\"Real\\n Negative\", \"Real\\n Positive\"])\n",
    "ax.set_yticklabels([\"Predicted\\n Negative\", \"Predicted\\n Positive\"])\n",
    "\n",
    "del fig, ax"
   ]
  },
  {
   "cell_type": "markdown",
   "id": "07deb116",
   "metadata": {},
   "source": [
    " The confusion matrix shows:\n",
    " - True Negatives (correctly identified images without ellipses)\n",
    " - False Positives (incorrectly identified images without ellipses as having ellipses)\n",
    " - False Negatives (incorrectly identified images with ellipses as not having ellipses)\n",
    " - True Positives (correctly identified images with ellipses)\n",
    "\n",
    " This gives us insight into the classification performance of our quantum neural network."
   ]
  }
 ],
 "metadata": {
  "kernelspec": {
   "display_name": "env",
   "language": "python",
   "name": "python3"
  },
  "language_info": {
   "codemirror_mode": {
    "name": "ipython",
    "version": 3
   },
   "file_extension": ".py",
   "mimetype": "text/x-python",
   "name": "python",
   "nbconvert_exporter": "python",
   "pygments_lexer": "ipython3",
   "version": "3.10.12"
  }
 },
 "nbformat": 4,
 "nbformat_minor": 5
}
